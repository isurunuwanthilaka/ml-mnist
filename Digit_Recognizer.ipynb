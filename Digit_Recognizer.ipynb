{
  "nbformat": 4,
  "nbformat_minor": 0,
  "metadata": {
    "kernelspec": {
      "name": "python3",
      "display_name": "Python 3"
    },
    "language_info": {
      "codemirror_mode": {
        "name": "ipython",
        "version": 3
      },
      "file_extension": ".py",
      "mimetype": "text/x-python",
      "name": "python",
      "nbconvert_exporter": "python",
      "pygments_lexer": "ipython3",
      "version": "3.6.8"
    },
    "colab": {
      "name": "Digit_Recognizer.ipynb",
      "version": "0.3.2",
      "provenance": [],
      "collapsed_sections": [],
      "include_colab_link": true
    },
    "accelerator": "TPU"
  },
  "cells": [
    {
      "cell_type": "markdown",
      "metadata": {
        "id": "view-in-github",
        "colab_type": "text"
      },
      "source": [
        "<a href=\"https://colab.research.google.com/github/isurunuwanthilaka/ml-mnist/blob/master/Digit_Recognizer.ipynb\" target=\"_parent\"><img src=\"https://colab.research.google.com/assets/colab-badge.svg\" alt=\"Open In Colab\"/></a>"
      ]
    },
    {
      "cell_type": "code",
      "metadata": {
        "_cell_guid": "b1076dfc-b9ad-4769-8c92-a6c4dae69d19",
        "_uuid": "8f2839f25d086af736a60e9eeb907d3b93b6e0e5",
        "id": "mFbgh4zOCEYZ",
        "colab_type": "code",
        "colab": {}
      },
      "source": [
        "#import libraries\n",
        "import numpy as np\n",
        "import pandas as pd\n",
        "import tensorflow as tf\n",
        "import os\n",
        "import random\n",
        "import seaborn as sns\n",
        "import matplotlib.image as mpimg\n",
        "import matplotlib.pyplot as plt\n",
        "%matplotlib inline"
      ],
      "execution_count": 0,
      "outputs": []
    },
    {
      "cell_type": "code",
      "metadata": {
        "id": "2az7ICKbCMP-",
        "colab_type": "code",
        "colab": {
          "base_uri": "https://localhost:8080/",
          "height": 323
        },
        "outputId": "f4d0c79e-3ade-45f0-ff7f-db7f232e6ae4"
      },
      "source": [
        "!pip install kaggle\n",
        "!mkdir /root/.kaggle\n",
        "\n",
        "!echo '{\"username\":\"isurunuwanthilaka\",\"key\":\"db2148ff93a08f45957b3b1ef11040fe\"}' > /root/.kaggle/kaggle.json\n",
        "!chmod 600 /root/.kaggle/kaggle.json\n",
        "!mkdir /content\n",
        "!kaggle config path -p /content\n",
        "!kaggle competitions download -c digit-recognizer"
      ],
      "execution_count": 34,
      "outputs": [
        {
          "output_type": "stream",
          "text": [
            "Requirement already satisfied: kaggle in /usr/local/lib/python3.6/dist-packages (1.5.5)\n",
            "Requirement already satisfied: six>=1.10 in /usr/local/lib/python3.6/dist-packages (from kaggle) (1.12.0)\n",
            "Requirement already satisfied: requests in /usr/local/lib/python3.6/dist-packages (from kaggle) (2.21.0)\n",
            "Requirement already satisfied: tqdm in /usr/local/lib/python3.6/dist-packages (from kaggle) (4.28.1)\n",
            "Requirement already satisfied: python-slugify in /usr/local/lib/python3.6/dist-packages (from kaggle) (3.0.3)\n",
            "Requirement already satisfied: python-dateutil in /usr/local/lib/python3.6/dist-packages (from kaggle) (2.5.3)\n",
            "Requirement already satisfied: certifi in /usr/local/lib/python3.6/dist-packages (from kaggle) (2019.6.16)\n",
            "Requirement already satisfied: urllib3<1.25,>=1.21.1 in /usr/local/lib/python3.6/dist-packages (from kaggle) (1.24.3)\n",
            "Requirement already satisfied: idna<2.9,>=2.5 in /usr/local/lib/python3.6/dist-packages (from requests->kaggle) (2.8)\n",
            "Requirement already satisfied: chardet<3.1.0,>=3.0.2 in /usr/local/lib/python3.6/dist-packages (from requests->kaggle) (3.0.4)\n",
            "Requirement already satisfied: text-unidecode==1.2 in /usr/local/lib/python3.6/dist-packages (from python-slugify->kaggle) (1.2)\n",
            "mkdir: cannot create directory ‘/root/.kaggle’: File exists\n",
            "mkdir: cannot create directory ‘/content’: File exists\n",
            "usage: kaggle config [-h] {view,set,unset} ...\n",
            "kaggle config: error: argument command: invalid choice: 'path' (choose from 'view', 'set', 'unset')\n",
            "train.csv: Skipping, found more recently modified local copy (use --force to force download)\n",
            "test.csv: Skipping, found more recently modified local copy (use --force to force download)\n",
            "sample_submission.csv: Skipping, found more recently modified local copy (use --force to force download)\n"
          ],
          "name": "stdout"
        }
      ]
    },
    {
      "cell_type": "code",
      "metadata": {
        "id": "_VaVkbyeCEYm",
        "colab_type": "code",
        "colab": {}
      },
      "source": [
        "#loading data\n",
        "train= pd.read_csv('./train.csv')\n",
        "test= pd.read_csv('./test.csv')\n",
        "\n",
        "class myCallback(tf.keras.callbacks.Callback):\n",
        "    def on_epoch_end(self, epoch, logs={}):\n",
        "        if(logs.get('acc')>0.998):\n",
        "            print(\"\\nReached 99.8% accuracy so cancelling training!\")\n",
        "            self.model.stop_training = True\n",
        "\n",
        "callbacks = myCallback()"
      ],
      "execution_count": 0,
      "outputs": []
    },
    {
      "cell_type": "code",
      "metadata": {
        "id": "ThTDfYp5CEYv",
        "colab_type": "code",
        "colab": {}
      },
      "source": [
        "#type assertion and extraction\n",
        "train = train.astype('int64')\n",
        "test = test.astype('int64')\n",
        "ytrain = train['label']\n",
        "xtrain = train.drop('label',axis = 1)\n",
        "dim = 28"
      ],
      "execution_count": 0,
      "outputs": []
    },
    {
      "cell_type": "code",
      "metadata": {
        "id": "ZO4GTN_UCEY4",
        "colab_type": "code",
        "colab": {
          "base_uri": "https://localhost:8080/",
          "height": 495
        },
        "outputId": "90defe0d-318b-4e6c-b989-c0d81f33a662"
      },
      "source": [
        "#mean and std of data\n",
        "sns.set(style='white', context='notebook', palette='deep')\n",
        "sns.countplot(ytrain)\n",
        "\n",
        "vals_class = ytrain.value_counts()\n",
        "print(vals_class)\n",
        "\n",
        "cls_mean = np.mean(vals_class)\n",
        "cls_std = np.std(vals_class,ddof=1)\n",
        "print(cls_mean,cls_std)"
      ],
      "execution_count": 37,
      "outputs": [
        {
          "output_type": "stream",
          "text": [
            "1    4684\n",
            "7    4401\n",
            "3    4351\n",
            "9    4188\n",
            "2    4177\n",
            "6    4137\n",
            "0    4132\n",
            "4    4072\n",
            "8    4063\n",
            "5    3795\n",
            "Name: label, dtype: int64\n",
            "4200.0 237.08929400825616\n"
          ],
          "name": "stdout"
        },
        {
          "output_type": "display_data",
          "data": {
            "image/png": "[encoded data removed]",
            "text/plain": [
              "<Figure size 432x288 with 1 Axes>"
            ]
          },
          "metadata": {
            "tags": []
          }
        }
      ]
    },
    {
      "cell_type": "code",
      "metadata": {
        "id": "HSny9X2VCEZD",
        "colab_type": "code",
        "colab": {
          "base_uri": "https://localhost:8080/",
          "height": 255
        },
        "outputId": "23b530a9-6b98-4192-c601-57de35afd5a0"
      },
      "source": [
        "#checking null\n",
        "def check_nan(df):\n",
        "    print(df.isnull().any().describe())\n",
        "    print(\"There are missing values\" if df.isnull().any().any() else \"There are no missing values\")\n",
        "\n",
        "    if df.isnull().any().any():\n",
        "        print(df.isnull().sum(axis=0))\n",
        "        \n",
        "    print()\n",
        "        \n",
        "check_nan(xtrain)\n",
        "check_nan(test)"
      ],
      "execution_count": 38,
      "outputs": [
        {
          "output_type": "stream",
          "text": [
            "count       784\n",
            "unique        1\n",
            "top       False\n",
            "freq        784\n",
            "dtype: object\n",
            "There are no missing values\n",
            "\n",
            "count       784\n",
            "unique        1\n",
            "top       False\n",
            "freq        784\n",
            "dtype: object\n",
            "There are no missing values\n",
            "\n"
          ],
          "name": "stdout"
        }
      ]
    },
    {
      "cell_type": "code",
      "metadata": {
        "id": "NaASBv_bCEZM",
        "colab_type": "code",
        "colab": {
          "base_uri": "https://localhost:8080/",
          "height": 284
        },
        "outputId": "0b77f80f-2163-48b6-8ec3-c3d0339f2073"
      },
      "source": [
        "#data visualizing\n",
        "ntrain = xtrain.shape[0]\n",
        "xtrain_vis = xtrain.values.reshape(ntrain, dim, dim)\n",
        "\n",
        "for i in range(0,9): # how many imgs will show from the 3x3 grid\n",
        "    plt.subplot(330 + (i+1)) # open next subplot\n",
        "    plt.imshow(xtrain_vis[i], cmap=plt.get_cmap('gray'))\n",
        "    plt.title(ytrain[i]);"
      ],
      "execution_count": 39,
      "outputs": [
        {
          "output_type": "display_data",
          "data": {
            "image/png": "[encoded data removed]",
            "text/plain": [
              "<Figure size 432x288 with 9 Axes>"
            ]
          },
          "metadata": {
            "tags": []
          }
        }
      ]
    },
    {
      "cell_type": "code",
      "metadata": {
        "id": "FyVExXxKCEZY",
        "colab_type": "code",
        "colab": {}
      },
      "source": [
        "#normalizing\n",
        "xtrain = xtrain / 255.0\n",
        "test = test / 255.0"
      ],
      "execution_count": 0,
      "outputs": []
    },
    {
      "cell_type": "code",
      "metadata": {
        "id": "SdE6BB9UCEZi",
        "colab_type": "code",
        "colab": {
          "base_uri": "https://localhost:8080/",
          "height": 85
        },
        "outputId": "21f75e8d-3b70-47e1-fd2a-871a43f4e95a"
      },
      "source": [
        "# reshape of image data to (nimg, img_rows, img_cols, 1)\n",
        "def df_reshape(df):\n",
        "    print(\"Previous shape, pixels are in 1D vector:\", df.shape)\n",
        "    df = df.values.reshape(-1, dim, dim, 1) \n",
        "    # -1 means the dimension doesn't change, so 42000 in the case of xtrain and 28000 in the case of test\n",
        "    print(\"After reshape, pixels are a 28x28x1 3D matrix:\", df.shape)\n",
        "    return df\n",
        "\n",
        "xtrain = df_reshape(xtrain)\n",
        "test = df_reshape(test)"
      ],
      "execution_count": 41,
      "outputs": [
        {
          "output_type": "stream",
          "text": [
            "Previous shape, pixels are in 1D vector: (42000, 784)\n",
            "After reshape, pixels are a 28x28x1 3D matrix: (42000, 28, 28, 1)\n",
            "Previous shape, pixels are in 1D vector: (28000, 784)\n",
            "After reshape, pixels are a 28x28x1 3D matrix: (28000, 28, 28, 1)\n"
          ],
          "name": "stdout"
        }
      ]
    },
    {
      "cell_type": "code",
      "metadata": {
        "id": "J1vDwm7ICEZn",
        "colab_type": "code",
        "colab": {
          "base_uri": "https://localhost:8080/",
          "height": 85
        },
        "outputId": "bfb25194-5ff9-44ab-e1a5-2ac9d3037a95"
      },
      "source": [
        "print(type(ytrain))\n",
        "# number of classes, in this case 10\n",
        "nclasses = ytrain.max() - ytrain.min() + 1\n",
        "\n",
        "print(\"Shape of ytrain before: \", ytrain.shape)\n",
        "\n",
        "ytrain = tf.keras.utils.to_categorical(ytrain, num_classes = nclasses)\n",
        "\n",
        "print(\"Shape of ytrain after: \", ytrain.shape) # (42000, 10), also numpy.ndarray type\n",
        "print(type(ytrain))"
      ],
      "execution_count": 42,
      "outputs": [
        {
          "output_type": "stream",
          "text": [
            "<class 'pandas.core.series.Series'>\n",
            "Shape of ytrain before:  (42000,)\n",
            "Shape of ytrain after:  (42000, 10)\n",
            "<class 'numpy.ndarray'>\n"
          ],
          "name": "stdout"
        }
      ]
    },
    {
      "cell_type": "code",
      "metadata": {
        "id": "jpy9LYyaCEZu",
        "colab_type": "code",
        "colab": {
          "base_uri": "https://localhost:8080/",
          "height": 34
        },
        "outputId": "e741e82e-e56f-436e-c253-6322d8c0d772"
      },
      "source": [
        "from sklearn.model_selection import train_test_split\n",
        "\n",
        "split_pct = 0.2\n",
        "\n",
        "# Split the train and the validation set\n",
        "xtrain, xval, ytrain, yval = train_test_split(xtrain,\n",
        "                                              ytrain, \n",
        "                                              test_size=split_pct,\n",
        "                                              shuffle=True,\n",
        "                                              stratify=ytrain\n",
        "                                             )\n",
        "\n",
        "print(xtrain.shape, ytrain.shape, xval.shape, yval.shape)"
      ],
      "execution_count": 43,
      "outputs": [
        {
          "output_type": "stream",
          "text": [
            "(33600, 28, 28, 1) (33600, 10) (8400, 28, 28, 1) (8400, 10)\n"
          ],
          "name": "stdout"
        }
      ]
    },
    {
      "cell_type": "code",
      "metadata": {
        "id": "cgOEy-2YCEZ3",
        "colab_type": "code",
        "colab": {}
      },
      "source": [
        "model = tf.keras.models.Sequential([\n",
        "    tf.keras.layers.Conv2D(32, (5,5), activation='relu', input_shape=(28, 28, 1)),\n",
        "    tf.keras.layers.Conv2D(32, (5,5), activation='relu', input_shape=(28, 28, 1)),\n",
        "    tf.keras.layers.MaxPooling2D(2, 2),\n",
        "    tf.keras.layers.Dropout(0.2),\n",
        "    \n",
        "    tf.keras.layers.Conv2D(64, (5,5), activation='relu'),\n",
        "    tf.keras.layers.Conv2D(64, (5,5), activation='relu'),\n",
        "    tf.keras.layers.MaxPooling2D(2, 2),\n",
        "    tf.keras.layers.Dropout(0.2),\n",
        "    \n",
        "    tf.keras.layers.Flatten(),\n",
        "    tf.keras.layers.Dense(120, activation='relu'),\n",
        "    tf.keras.layers.Dense(84, activation='relu'),\n",
        "    tf.keras.layers.Dense(10, activation='softmax')\n",
        "])"
      ],
      "execution_count": 0,
      "outputs": []
    },
    {
      "cell_type": "code",
      "metadata": {
        "id": "A2QTXX5hCEaB",
        "colab_type": "code",
        "colab": {
          "base_uri": "https://localhost:8080/",
          "height": 561
        },
        "outputId": "019aa09d-7585-47f2-bd11-4a09ff6b0a95"
      },
      "source": [
        "model.summary()"
      ],
      "execution_count": 45,
      "outputs": [
        {
          "output_type": "stream",
          "text": [
            "Model: \"sequential_2\"\n",
            "_________________________________________________________________\n",
            "Layer (type)                 Output Shape              Param #   \n",
            "=================================================================\n",
            "conv2d_6 (Conv2D)            (None, 24, 24, 32)        832       \n",
            "_________________________________________________________________\n",
            "conv2d_7 (Conv2D)            (None, 20, 20, 32)        25632     \n",
            "_________________________________________________________________\n",
            "max_pooling2d_3 (MaxPooling2 (None, 10, 10, 32)        0         \n",
            "_________________________________________________________________\n",
            "dropout_2 (Dropout)          (None, 10, 10, 32)        0         \n",
            "_________________________________________________________________\n",
            "conv2d_8 (Conv2D)            (None, 6, 6, 64)          51264     \n",
            "_________________________________________________________________\n",
            "conv2d_9 (Conv2D)            (None, 2, 2, 64)          102464    \n",
            "_________________________________________________________________\n",
            "max_pooling2d_4 (MaxPooling2 (None, 1, 1, 64)          0         \n",
            "_________________________________________________________________\n",
            "dropout_3 (Dropout)          (None, 1, 1, 64)          0         \n",
            "_________________________________________________________________\n",
            "flatten_2 (Flatten)          (None, 64)                0         \n",
            "_________________________________________________________________\n",
            "dense_6 (Dense)              (None, 120)               7800      \n",
            "_________________________________________________________________\n",
            "dense_7 (Dense)              (None, 84)                10164     \n",
            "_________________________________________________________________\n",
            "dense_8 (Dense)              (None, 10)                850       \n",
            "=================================================================\n",
            "Total params: 199,006\n",
            "Trainable params: 199,006\n",
            "Non-trainable params: 0\n",
            "_________________________________________________________________\n"
          ],
          "name": "stdout"
        }
      ]
    },
    {
      "cell_type": "code",
      "metadata": {
        "id": "lw-svB1UCEaM",
        "colab_type": "code",
        "colab": {}
      },
      "source": [
        "model.compile(optimizer='adam', loss='categorical_crossentropy', metrics=['accuracy'])"
      ],
      "execution_count": 0,
      "outputs": []
    },
    {
      "cell_type": "code",
      "metadata": {
        "id": "qIbEZ4NuIevk",
        "colab_type": "code",
        "colab": {}
      },
      "source": [
        "lr_reduction = tf.keras.callbacks.ReduceLROnPlateau(monitor='val_acc', \n",
        "                                 patience=3, \n",
        "                                 verbose=1, \n",
        "                                 factor=0.5, \n",
        "                                 min_lr=0.00001)"
      ],
      "execution_count": 0,
      "outputs": []
    },
    {
      "cell_type": "code",
      "metadata": {
        "id": "ZbZ4TwiWI07n",
        "colab_type": "code",
        "colab": {}
      },
      "source": [
        "datagen = tf.keras.preprocessing.image.ImageDataGenerator(\n",
        "          featurewise_center=False,            # set input mean to 0 over the dataset\n",
        "          samplewise_center=False,             # set each sample mean to 0\n",
        "          featurewise_std_normalization=False, # divide inputs by std of the dataset\n",
        "          samplewise_std_normalization=False,  # divide each input by its std\n",
        "          zca_whitening=False,                 # apply ZCA whitening\n",
        "          rotation_range=30,                   # randomly rotate images in the range (degrees, 0 to 180)\n",
        "          zoom_range = 0.1,                    # Randomly zoom image \n",
        "          width_shift_range=0.1,               # randomly shift images horizontally (fraction of total width)\n",
        "          height_shift_range=0.1,              # randomly shift images vertically (fraction of total height)\n",
        "          horizontal_flip=False,               # randomly flip images\n",
        "          vertical_flip=False)                 # randomly flip images\n",
        "\n",
        "datagen.fit(xtrain)"
      ],
      "execution_count": 0,
      "outputs": []
    },
    {
      "cell_type": "code",
      "metadata": {
        "id": "VUMWVPRTJDcU",
        "colab_type": "code",
        "colab": {}
      },
      "source": [
        "epochs = 15\n",
        "batch_size = 64"
      ],
      "execution_count": 0,
      "outputs": []
    },
    {
      "cell_type": "code",
      "metadata": {
        "id": "eZ4WlOQxJII-",
        "colab_type": "code",
        "colab": {
          "base_uri": "https://localhost:8080/",
          "height": 527
        },
        "outputId": "e0929281-a542-4f21-cd9c-97c7863d3116"
      },
      "source": [
        "history = model.fit_generator(datagen.flow(xtrain,ytrain, batch_size=batch_size),\n",
        "                              epochs=epochs, \n",
        "                              validation_data=(xval,yval),\n",
        "                              verbose=1, \n",
        "                              steps_per_epoch=xtrain.shape[0] // batch_size, \n",
        "                              callbacks=[lr_reduction])"
      ],
      "execution_count": 51,
      "outputs": [
        {
          "output_type": "stream",
          "text": [
            "Epoch 1/15\n",
            "525/525 [==============================] - 114s 217ms/step - loss: 0.6166 - acc: 0.7979 - val_loss: 0.0831 - val_acc: 0.9736\n",
            "Epoch 2/15\n",
            "525/525 [==============================] - 113s 216ms/step - loss: 0.1908 - acc: 0.9434 - val_loss: 0.0683 - val_acc: 0.9815\n",
            "Epoch 3/15\n",
            "525/525 [==============================] - 113s 215ms/step - loss: 0.1501 - acc: 0.9560 - val_loss: 0.0522 - val_acc: 0.9842\n",
            "Epoch 4/15\n",
            "525/525 [==============================] - 113s 216ms/step - loss: 0.1214 - acc: 0.9638 - val_loss: 0.0494 - val_acc: 0.9858\n",
            "Epoch 5/15\n",
            "525/525 [==============================] - 113s 215ms/step - loss: 0.1066 - acc: 0.9691 - val_loss: 0.0568 - val_acc: 0.9852\n",
            "Epoch 6/15\n",
            "525/525 [==============================] - 113s 215ms/step - loss: 0.1027 - acc: 0.9706 - val_loss: 0.0530 - val_acc: 0.9850\n",
            "Epoch 7/15\n",
            "525/525 [==============================] - 113s 215ms/step - loss: 0.0952 - acc: 0.9728 - val_loss: 0.0347 - val_acc: 0.9893\n",
            "Epoch 8/15\n",
            "525/525 [==============================] - 113s 215ms/step - loss: 0.0841 - acc: 0.9753 - val_loss: 0.0438 - val_acc: 0.9876\n",
            "Epoch 9/15\n",
            "525/525 [==============================] - 113s 215ms/step - loss: 0.0819 - acc: 0.9771 - val_loss: 0.0467 - val_acc: 0.9865\n",
            "Epoch 10/15\n",
            "525/525 [==============================] - 113s 214ms/step - loss: 0.0716 - acc: 0.9800 - val_loss: 0.0373 - val_acc: 0.9908\n",
            "Epoch 11/15\n",
            "525/525 [==============================] - 113s 215ms/step - loss: 0.0752 - acc: 0.9787 - val_loss: 0.0360 - val_acc: 0.9890\n",
            "Epoch 12/15\n",
            "525/525 [==============================] - 113s 215ms/step - loss: 0.0684 - acc: 0.9804 - val_loss: 0.0319 - val_acc: 0.9919\n",
            "Epoch 13/15\n",
            "525/525 [==============================] - 112s 213ms/step - loss: 0.0664 - acc: 0.9808 - val_loss: 0.0321 - val_acc: 0.9918\n",
            "Epoch 14/15\n",
            "525/525 [==============================] - 114s 216ms/step - loss: 0.0651 - acc: 0.9822 - val_loss: 0.0266 - val_acc: 0.9927\n",
            "Epoch 15/15\n",
            "525/525 [==============================] - 113s 216ms/step - loss: 0.0592 - acc: 0.9822 - val_loss: 0.0324 - val_acc: 0.9908\n"
          ],
          "name": "stdout"
        }
      ]
    },
    {
      "cell_type": "code",
      "metadata": {
        "id": "Iee0qcY8JWUa",
        "colab_type": "code",
        "colab": {
          "base_uri": "https://localhost:8080/",
          "height": 274
        },
        "outputId": "385a2916-365f-4e1d-9131-e7a0879d3344"
      },
      "source": [
        "fig, ax = plt.subplots(2,1)\n",
        "ax[0].plot(history.history['loss'], color='b', label=\"Training loss\")\n",
        "ax[0].plot(history.history['val_loss'], color='r', label=\"Validation loss\",axes =ax[0])\n",
        "ax[0].grid(color='black', linestyle='-', linewidth=0.25)\n",
        "legend = ax[0].legend(loc='best', shadow=True)\n",
        "\n",
        "ax[1].plot(history.history['acc'], color='b', label=\"Training accuracy\")\n",
        "ax[1].plot(history.history['val_acc'], color='r',label=\"Validation accuracy\")\n",
        "ax[1].grid(color='black', linestyle='-', linewidth=0.25)\n",
        "legend = ax[1].legend(loc='best', shadow=True)"
      ],
      "execution_count": 52,
      "outputs": [
        {
          "output_type": "display_data",
          "data": {
            "image/png": "[encoded data removed]",
            "text/plain": [
              "<Figure size 432x288 with 2 Axes>"
            ]
          },
          "metadata": {
            "tags": []
          }
        }
      ]
    },
    {
      "cell_type": "code",
      "metadata": {
        "id": "ET8mp_9TCEap",
        "colab_type": "code",
        "colab": {
          "base_uri": "https://localhost:8080/",
          "height": 34
        },
        "outputId": "a21c3eb9-27f7-41ee-b585-a23c9484f4e9"
      },
      "source": [
        "predictions = model.predict_classes(test, verbose=1)\n",
        "\n",
        "submissions = pd.DataFrame({\"ImageId\": list(range(1,len(predictions)+1)),\n",
        "                            \"Label\": predictions})\n",
        "\n",
        "submissions.to_csv(\"submission20190805.csv\", index=False, header=True)"
      ],
      "execution_count": 53,
      "outputs": [
        {
          "output_type": "stream",
          "text": [
            "28000/28000 [==============================] - 21s 735us/sample\n"
          ],
          "name": "stdout"
        }
      ]
    }
  ]
}